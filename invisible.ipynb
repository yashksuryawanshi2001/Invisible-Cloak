{
 "cells": [
  {
   "cell_type": "code",
   "execution_count": null,
   "metadata": {},
   "outputs": [],
   "source": [
    "# Import Libraries\n",
    "\n",
    "import numpy as np\n",
    "\n",
    "import cv2\n",
    "\n",
    "import time\n",
    "# camCount=0\n",
    "#To use webcam  enter 0 and to enter the video path in dowble quotes\n",
    "cap = cv2.VideoCapture(0)\n",
    "\n",
    "time.sleep(3)       # parantheis haas two because the camera needs time to adjust it self i according to the environment(ANDHERA KAMRA)\n",
    "\n",
    "background = 0\n",
    "\n",
    "\n",
    "# Capturing the background\n",
    "for i in range(60):\n",
    "\n",
    "    ret, background = cap.read()\n",
    "#capturing image\n",
    "background = np.flip(background,axis=1)\n",
    "while(cap.isOpened()):  #Condition for this is when only the web cam is opened  it will only run the code else the code will not run in the background without the webbcam\n",
    "\n",
    "    ret, img = cap.read()\n",
    "    if not ret:\n",
    "        break\n",
    "    img = np.flip(img,axis=1)\n",
    "    hsv = cv2.cvtColor(img,cv2.COLOR_BGR2HSV)\n",
    "    #HSV values\n",
    "\n",
    "    #setting the values for the cloak\n",
    "    lower_red = np.array([0,120,70])\n",
    "    upper_red = np.array([10,255,255])\n",
    "\n",
    "    mask1 = cv2.inRange(hsv, lower_red,upper_red)\n",
    "\n",
    "    lower_red = np.array([170,120,70])\n",
    "    upper_red =  np.array([180,255,255])\n",
    "    mask2 = cv2.inRange(hsv,lower_red,upper_red)\n",
    "\n",
    "    mask1 = mask1 +mask2\n",
    "\n",
    "    mask1 = cv2.morphologyEx(mask1,cv2.MORPH_OPEN,np.ones((3,3),np.uint8), iterations = 2)\n",
    "    mask1 = cv2.morphologyEx(mask1, cv2.MORPH_DILATE,np.ones((3,3),np.uint8), iterations = 1)\n",
    "\n",
    "    mask2 =cv2.bitwise_not(mask1)\n",
    "\n",
    "    res1 = cv2.bitwise_and(background,background,mask=mask1)\n",
    "    res2 = cv2.bitwise_and(img,img,mask=mask2)\n",
    "    final_output = cv2.addWeighted(res1,1,res2,1,0)\n",
    "    cv2.imshow('Invisible Cloak',final_output)\n",
    "    k = cv2.waitKey(10)\n",
    "    if k==13:\n",
    "        break\n",
    "cap.release()\n",
    "cv2.destroyAllWindows()"
   ]
  },
  {
   "cell_type": "code",
   "execution_count": null,
   "metadata": {},
   "outputs": [],
   "source": []
  },
  {
   "cell_type": "code",
   "execution_count": null,
   "metadata": {},
   "outputs": [],
   "source": []
  }
 ],
 "metadata": {
  "kernelspec": {
   "display_name": "Python 3",
   "language": "python",
   "name": "python3"
  },
  "language_info": {
   "codemirror_mode": {
    "name": "ipython",
    "version": 3
   },
   "file_extension": ".py",
   "mimetype": "text/x-python",
   "name": "python",
   "nbconvert_exporter": "python",
   "pygments_lexer": "ipython3",
   "version": "3.8.3"
  }
 },
 "nbformat": 4,
 "nbformat_minor": 4
}
